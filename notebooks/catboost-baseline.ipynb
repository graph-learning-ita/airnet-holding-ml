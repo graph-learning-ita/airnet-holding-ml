{
 "cells": [
  {
   "cell_type": "code",
   "execution_count": 1,
   "id": "f78846aa-6ec9-46dc-a923-67d167939194",
   "metadata": {},
   "outputs": [],
   "source": [
    "import numpy as np\n",
    "import pandas as pd\n",
    "\n",
    "from dsc2024 import datasets\n",
    "from dsc2024 import handling"
   ]
  },
  {
   "cell_type": "markdown",
   "id": "c4548a4d-ee45-4e6e-956a-756e30b6b2bd",
   "metadata": {},
   "source": [
    "# Data Handling"
   ]
  },
  {
   "cell_type": "code",
   "execution_count": 2,
   "id": "f2f5dccc-794d-4fdd-ac45-c1384c06094d",
   "metadata": {},
   "outputs": [],
   "source": [
    "# Parameters\n",
    "sampling = 10000 # None to use everything\n",
    "real_test = False"
   ]
  },
  {
   "cell_type": "code",
   "execution_count": 3,
   "id": "121483fd-8b73-4c55-8da2-7db6a8f5a589",
   "metadata": {},
   "outputs": [
    {
     "name": "stdout",
     "output_type": "stream",
     "text": [
      "CPU times: user 9.83 s, sys: 117 ms, total: 9.95 s\n",
      "Wall time: 10 s\n"
     ]
    }
   ],
   "source": [
    "%%time\n",
    "\n",
    "if real_test:\n",
    "    sampling = None\n",
    "df = datasets.get_train_dataset(sampling=sampling)"
   ]
  },
  {
   "cell_type": "code",
   "execution_count": 4,
   "id": "40021f50-6e28-4413-ad7b-970534032204",
   "metadata": {},
   "outputs": [
    {
     "name": "stdout",
     "output_type": "stream",
     "text": [
      "<class 'pandas.core.frame.DataFrame'>\n",
      "Index: 7054 entries, 1bdc1f288d4a880aaedb2e514432ed59 to 04f4debae52dcfc754e6dd3c1e886665\n",
      "Data columns (total 63 columns):\n",
      " #   Column                         Non-Null Count  Dtype         \n",
      "---  ------                         --------------  -----         \n",
      " 0   hora_ref                       7054 non-null   datetime64[ns]\n",
      " 1   origem                         7054 non-null   object        \n",
      " 2   destino                        7054 non-null   object        \n",
      " 3   url_img_satelite               6964 non-null   object        \n",
      " 4   prev_troca_cabeceira           7054 non-null   int64         \n",
      " 5   troca_cabeceira_hora_anterior  7054 non-null   int64         \n",
      " 6   espera                         7054 non-null   float64       \n",
      " 7   metar_station_id               6978 non-null   object        \n",
      " 8   metar_latitude                 6978 non-null   float64       \n",
      " 9   metar_longitude                6978 non-null   float64       \n",
      " 10  metar_elevation                6978 non-null   float64       \n",
      " 11  metar_date_time                6974 non-null   datetime64[ns]\n",
      " 12  metar_wind_direction           6586 non-null   float64       \n",
      " 13  metar_wind_speed               6978 non-null   float64       \n",
      " 14  metar_wind_gust                64 non-null     float64       \n",
      " 15  metar_visibility               6978 non-null   float64       \n",
      " 16  metar_current_wx1              990 non-null    object        \n",
      " 17  metar_current_wx2              231 non-null    object        \n",
      " 18  metar_current_wx3              1 non-null      object        \n",
      " 19  metar_skyc1                    4987 non-null   object        \n",
      " 20  metar_skylev1                  4856 non-null   float64       \n",
      " 21  metar_skyc2                    2833 non-null   object        \n",
      " 22  metar_skylev2                  2833 non-null   float64       \n",
      " 23  metar_skyc3                    882 non-null    object        \n",
      " 24  metar_skylev3                  882 non-null    float64       \n",
      " 25  metar_skyc4                    47 non-null     object        \n",
      " 26  metar_skylev4                  47 non-null     float64       \n",
      " 27  metar_cloudcover               6978 non-null   float64       \n",
      " 28  metar_temperature              6968 non-null   float64       \n",
      " 29  metar_dewpoint                 6960 non-null   float64       \n",
      " 30  metar_altimeter                6968 non-null   float64       \n",
      " 31  metar_current_wx1_symbol       6978 non-null   float64       \n",
      " 32  metar_current_wx2_symbol       6978 non-null   float64       \n",
      " 33  metar_current_wx3_symbol       6978 non-null   float64       \n",
      " 34  metar_remarks                  6978 non-null   object        \n",
      " 35  metaf_station_id               2985 non-null   object        \n",
      " 36  metaf_latitude                 2985 non-null   float64       \n",
      " 37  metaf_longitude                2985 non-null   float64       \n",
      " 38  metaf_elevation                2985 non-null   float64       \n",
      " 39  metaf_date_time                2985 non-null   datetime64[ns]\n",
      " 40  metaf_wind_direction           2985 non-null   float64       \n",
      " 41  metaf_wind_speed               2985 non-null   float64       \n",
      " 42  metaf_wind_gust                0 non-null      float64       \n",
      " 43  metaf_visibility               2985 non-null   float64       \n",
      " 44  metaf_current_wx1              800 non-null    object        \n",
      " 45  metaf_current_wx2              2 non-null      object        \n",
      " 46  metaf_current_wx3              0 non-null      float64       \n",
      " 47  metaf_skyc1                    1671 non-null   object        \n",
      " 48  metaf_skylev1                  1671 non-null   float64       \n",
      " 49  metaf_skyc2                    83 non-null     object        \n",
      " 50  metaf_skylev2                  83 non-null     float64       \n",
      " 51  metaf_skyc3                    0 non-null      float64       \n",
      " 52  metaf_skylev3                  0 non-null      float64       \n",
      " 53  metaf_skyc4                    0 non-null      float64       \n",
      " 54  metaf_skylev4                  0 non-null      float64       \n",
      " 55  metaf_cloudcover               2985 non-null   float64       \n",
      " 56  metaf_temperature              2961 non-null   float64       \n",
      " 57  metaf_dewpoint                 2961 non-null   float64       \n",
      " 58  metaf_altimeter                2961 non-null   float64       \n",
      " 59  metaf_current_wx1_symbol       2985 non-null   float64       \n",
      " 60  metaf_current_wx2_symbol       2985 non-null   float64       \n",
      " 61  metaf_current_wx3_symbol       2985 non-null   float64       \n",
      " 62  metaf_remarks                  2985 non-null   object        \n",
      "dtypes: datetime64[ns](3), float64(40), int64(2), object(18)\n",
      "memory usage: 3.4+ MB\n"
     ]
    }
   ],
   "source": [
    "df.info()"
   ]
  },
  {
   "cell_type": "code",
   "execution_count": 5,
   "id": "cf7bb9e5-949f-43f6-ac3d-f601df113352",
   "metadata": {},
   "outputs": [
    {
     "name": "stdout",
     "output_type": "stream",
     "text": [
      "<class 'pandas.core.frame.DataFrame'>\n",
      "Index: 7054 entries, 1bdc1f288d4a880aaedb2e514432ed59 to 04f4debae52dcfc754e6dd3c1e886665\n",
      "Data columns (total 57 columns):\n",
      " #   Column                         Non-Null Count  Dtype         \n",
      "---  ------                         --------------  -----         \n",
      " 0   hora_ref                       7054 non-null   datetime64[ns]\n",
      " 1   origem                         7054 non-null   object        \n",
      " 2   destino                        7054 non-null   object        \n",
      " 3   url_img_satelite               6964 non-null   object        \n",
      " 4   prev_troca_cabeceira           7054 non-null   int64         \n",
      " 5   troca_cabeceira_hora_anterior  7054 non-null   int64         \n",
      " 6   espera                         7054 non-null   float64       \n",
      " 7   metar_station_id               6978 non-null   object        \n",
      " 8   metar_latitude                 6978 non-null   float64       \n",
      " 9   metar_longitude                6978 non-null   float64       \n",
      " 10  metar_elevation                6978 non-null   float64       \n",
      " 11  metar_date_time                6974 non-null   datetime64[ns]\n",
      " 12  metar_wind_direction           6586 non-null   float64       \n",
      " 13  metar_wind_speed               6978 non-null   float64       \n",
      " 14  metar_wind_gust                64 non-null     float64       \n",
      " 15  metar_visibility               6978 non-null   float64       \n",
      " 16  metar_current_wx1              990 non-null    object        \n",
      " 17  metar_current_wx2              231 non-null    object        \n",
      " 18  metar_current_wx3              1 non-null      object        \n",
      " 19  metar_skyc1                    4987 non-null   object        \n",
      " 20  metar_skylev1                  4856 non-null   float64       \n",
      " 21  metar_skyc2                    2833 non-null   object        \n",
      " 22  metar_skylev2                  2833 non-null   float64       \n",
      " 23  metar_skyc3                    882 non-null    object        \n",
      " 24  metar_skylev3                  882 non-null    float64       \n",
      " 25  metar_skyc4                    47 non-null     object        \n",
      " 26  metar_skylev4                  47 non-null     float64       \n",
      " 27  metar_cloudcover               6978 non-null   float64       \n",
      " 28  metar_temperature              6968 non-null   float64       \n",
      " 29  metar_dewpoint                 6960 non-null   float64       \n",
      " 30  metar_altimeter                6968 non-null   float64       \n",
      " 31  metar_current_wx1_symbol       6978 non-null   float64       \n",
      " 32  metar_current_wx2_symbol       6978 non-null   float64       \n",
      " 33  metar_current_wx3_symbol       6978 non-null   float64       \n",
      " 34  metar_remarks                  6978 non-null   object        \n",
      " 35  metaf_station_id               2985 non-null   object        \n",
      " 36  metaf_latitude                 2985 non-null   float64       \n",
      " 37  metaf_longitude                2985 non-null   float64       \n",
      " 38  metaf_elevation                2985 non-null   float64       \n",
      " 39  metaf_date_time                2985 non-null   datetime64[ns]\n",
      " 40  metaf_wind_direction           2985 non-null   float64       \n",
      " 41  metaf_wind_speed               2985 non-null   float64       \n",
      " 42  metaf_visibility               2985 non-null   float64       \n",
      " 43  metaf_current_wx1              800 non-null    object        \n",
      " 44  metaf_current_wx2              2 non-null      object        \n",
      " 45  metaf_skyc1                    1671 non-null   object        \n",
      " 46  metaf_skylev1                  1671 non-null   float64       \n",
      " 47  metaf_skyc2                    83 non-null     object        \n",
      " 48  metaf_skylev2                  83 non-null     float64       \n",
      " 49  metaf_cloudcover               2985 non-null   float64       \n",
      " 50  metaf_temperature              2961 non-null   float64       \n",
      " 51  metaf_dewpoint                 2961 non-null   float64       \n",
      " 52  metaf_altimeter                2961 non-null   float64       \n",
      " 53  metaf_current_wx1_symbol       2985 non-null   float64       \n",
      " 54  metaf_current_wx2_symbol       2985 non-null   float64       \n",
      " 55  metaf_current_wx3_symbol       2985 non-null   float64       \n",
      " 56  metaf_remarks                  2985 non-null   object        \n",
      "dtypes: datetime64[ns](3), float64(34), int64(2), object(18)\n",
      "memory usage: 3.1+ MB\n"
     ]
    }
   ],
   "source": [
    "# drop columns with only has null values\n",
    "df.dropna(axis=1, how=\"all\", inplace=True)\n",
    "df.info()"
   ]
  },
  {
   "cell_type": "code",
   "execution_count": 6,
   "id": "dd5b9867-7883-4841-8aea-9ee8d909b71f",
   "metadata": {},
   "outputs": [
    {
     "name": "stdout",
     "output_type": "stream",
     "text": [
      "<class 'pandas.core.frame.DataFrame'>\n",
      "Index: 7054 entries, 1bdc1f288d4a880aaedb2e514432ed59 to 04f4debae52dcfc754e6dd3c1e886665\n",
      "Data columns (total 53 columns):\n",
      " #   Column                         Non-Null Count  Dtype  \n",
      "---  ------                         --------------  -----  \n",
      " 0   origem                         7054 non-null   object \n",
      " 1   destino                        7054 non-null   object \n",
      " 2   prev_troca_cabeceira           7054 non-null   int64  \n",
      " 3   troca_cabeceira_hora_anterior  7054 non-null   int64  \n",
      " 4   espera                         7054 non-null   float64\n",
      " 5   metar_station_id               6978 non-null   object \n",
      " 6   metar_latitude                 6978 non-null   float64\n",
      " 7   metar_longitude                6978 non-null   float64\n",
      " 8   metar_elevation                6978 non-null   float64\n",
      " 9   metar_wind_direction           6586 non-null   float64\n",
      " 10  metar_wind_speed               6978 non-null   float64\n",
      " 11  metar_wind_gust                64 non-null     float64\n",
      " 12  metar_visibility               6978 non-null   float64\n",
      " 13  metar_current_wx1              990 non-null    object \n",
      " 14  metar_current_wx2              231 non-null    object \n",
      " 15  metar_current_wx3              1 non-null      object \n",
      " 16  metar_skyc1                    4987 non-null   object \n",
      " 17  metar_skylev1                  4856 non-null   float64\n",
      " 18  metar_skyc2                    2833 non-null   object \n",
      " 19  metar_skylev2                  2833 non-null   float64\n",
      " 20  metar_skyc3                    882 non-null    object \n",
      " 21  metar_skylev3                  882 non-null    float64\n",
      " 22  metar_skyc4                    47 non-null     object \n",
      " 23  metar_skylev4                  47 non-null     float64\n",
      " 24  metar_cloudcover               6978 non-null   float64\n",
      " 25  metar_temperature              6968 non-null   float64\n",
      " 26  metar_dewpoint                 6960 non-null   float64\n",
      " 27  metar_altimeter                6968 non-null   float64\n",
      " 28  metar_current_wx1_symbol       6978 non-null   float64\n",
      " 29  metar_current_wx2_symbol       6978 non-null   float64\n",
      " 30  metar_current_wx3_symbol       6978 non-null   float64\n",
      " 31  metar_remarks                  6978 non-null   object \n",
      " 32  metaf_station_id               2985 non-null   object \n",
      " 33  metaf_latitude                 2985 non-null   float64\n",
      " 34  metaf_longitude                2985 non-null   float64\n",
      " 35  metaf_elevation                2985 non-null   float64\n",
      " 36  metaf_wind_direction           2985 non-null   float64\n",
      " 37  metaf_wind_speed               2985 non-null   float64\n",
      " 38  metaf_visibility               2985 non-null   float64\n",
      " 39  metaf_current_wx1              800 non-null    object \n",
      " 40  metaf_current_wx2              2 non-null      object \n",
      " 41  metaf_skyc1                    1671 non-null   object \n",
      " 42  metaf_skylev1                  1671 non-null   float64\n",
      " 43  metaf_skyc2                    83 non-null     object \n",
      " 44  metaf_skylev2                  83 non-null     float64\n",
      " 45  metaf_cloudcover               2985 non-null   float64\n",
      " 46  metaf_temperature              2961 non-null   float64\n",
      " 47  metaf_dewpoint                 2961 non-null   float64\n",
      " 48  metaf_altimeter                2961 non-null   float64\n",
      " 49  metaf_current_wx1_symbol       2985 non-null   float64\n",
      " 50  metaf_current_wx2_symbol       2985 non-null   float64\n",
      " 51  metaf_current_wx3_symbol       2985 non-null   float64\n",
      " 52  metaf_remarks                  2985 non-null   object \n",
      "dtypes: float64(34), int64(2), object(17)\n",
      "memory usage: 2.9+ MB\n"
     ]
    }
   ],
   "source": [
    "# drop non-feature datetime / image columns (to be out of baseline for feature engineering)\n",
    "datetime_columns = [\"hora_ref\", \"metaf_date_time\", \"metar_date_time\", \"url_img_satelite\"]\n",
    "df.drop(columns=datetime_columns, inplace=True)\n",
    "df.info()"
   ]
  },
  {
   "cell_type": "code",
   "execution_count": 7,
   "id": "9e3ac591-d2e7-4535-a8c6-3a9ecac23834",
   "metadata": {},
   "outputs": [],
   "source": [
    "X = df.drop(\"espera\", axis=1)\n",
    "y = df.espera.astype(int)"
   ]
  },
  {
   "cell_type": "code",
   "execution_count": 8,
   "id": "1cb7aa65-ce73-4d68-8a86-2157bfc890f7",
   "metadata": {},
   "outputs": [
    {
     "data": {
      "text/plain": [
       "['origem',\n",
       " 'destino',\n",
       " 'metar_station_id',\n",
       " 'metar_current_wx1',\n",
       " 'metar_current_wx2',\n",
       " 'metar_current_wx3',\n",
       " 'metar_skyc1',\n",
       " 'metar_skyc2',\n",
       " 'metar_skyc3',\n",
       " 'metar_skyc4',\n",
       " 'metar_remarks',\n",
       " 'metaf_station_id',\n",
       " 'metaf_current_wx1',\n",
       " 'metaf_current_wx2',\n",
       " 'metaf_skyc1',\n",
       " 'metaf_skyc2',\n",
       " 'metaf_remarks']"
      ]
     },
     "execution_count": 8,
     "metadata": {},
     "output_type": "execute_result"
    }
   ],
   "source": [
    "cat_features = X.select_dtypes(include=['object']).columns.tolist()\n",
    "cat_features"
   ]
  },
  {
   "cell_type": "markdown",
   "id": "fd478ac2-f9b2-4dea-a87b-4b10cee7d42b",
   "metadata": {},
   "source": [
    "# Data Imputation"
   ]
  },
  {
   "cell_type": "code",
   "execution_count": 9,
   "id": "48b400b0-a460-4e32-8ebe-d1d7e8905261",
   "metadata": {},
   "outputs": [],
   "source": [
    "# Fill categorical features with unknown class (a new category)\n",
    "# numerical features will be filled with min-value catboost default strategy\n",
    "cat_features_fill_map = {f: \"UNKNOWN\" for f in cat_features}\n",
    "X.fillna(cat_features_fill_map, inplace=True)"
   ]
  },
  {
   "cell_type": "code",
   "execution_count": 10,
   "id": "f91ffa50-6bb0-4d14-8794-54de22bf1c76",
   "metadata": {},
   "outputs": [
    {
     "name": "stdout",
     "output_type": "stream",
     "text": [
      "<class 'pandas.core.frame.DataFrame'>\n",
      "Index: 7054 entries, 1bdc1f288d4a880aaedb2e514432ed59 to 04f4debae52dcfc754e6dd3c1e886665\n",
      "Data columns (total 52 columns):\n",
      " #   Column                         Non-Null Count  Dtype  \n",
      "---  ------                         --------------  -----  \n",
      " 0   origem                         7054 non-null   object \n",
      " 1   destino                        7054 non-null   object \n",
      " 2   prev_troca_cabeceira           7054 non-null   int64  \n",
      " 3   troca_cabeceira_hora_anterior  7054 non-null   int64  \n",
      " 4   metar_station_id               7054 non-null   object \n",
      " 5   metar_latitude                 6978 non-null   float64\n",
      " 6   metar_longitude                6978 non-null   float64\n",
      " 7   metar_elevation                6978 non-null   float64\n",
      " 8   metar_wind_direction           6586 non-null   float64\n",
      " 9   metar_wind_speed               6978 non-null   float64\n",
      " 10  metar_wind_gust                64 non-null     float64\n",
      " 11  metar_visibility               6978 non-null   float64\n",
      " 12  metar_current_wx1              7054 non-null   object \n",
      " 13  metar_current_wx2              7054 non-null   object \n",
      " 14  metar_current_wx3              7054 non-null   object \n",
      " 15  metar_skyc1                    7054 non-null   object \n",
      " 16  metar_skylev1                  4856 non-null   float64\n",
      " 17  metar_skyc2                    7054 non-null   object \n",
      " 18  metar_skylev2                  2833 non-null   float64\n",
      " 19  metar_skyc3                    7054 non-null   object \n",
      " 20  metar_skylev3                  882 non-null    float64\n",
      " 21  metar_skyc4                    7054 non-null   object \n",
      " 22  metar_skylev4                  47 non-null     float64\n",
      " 23  metar_cloudcover               6978 non-null   float64\n",
      " 24  metar_temperature              6968 non-null   float64\n",
      " 25  metar_dewpoint                 6960 non-null   float64\n",
      " 26  metar_altimeter                6968 non-null   float64\n",
      " 27  metar_current_wx1_symbol       6978 non-null   float64\n",
      " 28  metar_current_wx2_symbol       6978 non-null   float64\n",
      " 29  metar_current_wx3_symbol       6978 non-null   float64\n",
      " 30  metar_remarks                  7054 non-null   object \n",
      " 31  metaf_station_id               7054 non-null   object \n",
      " 32  metaf_latitude                 2985 non-null   float64\n",
      " 33  metaf_longitude                2985 non-null   float64\n",
      " 34  metaf_elevation                2985 non-null   float64\n",
      " 35  metaf_wind_direction           2985 non-null   float64\n",
      " 36  metaf_wind_speed               2985 non-null   float64\n",
      " 37  metaf_visibility               2985 non-null   float64\n",
      " 38  metaf_current_wx1              7054 non-null   object \n",
      " 39  metaf_current_wx2              7054 non-null   object \n",
      " 40  metaf_skyc1                    7054 non-null   object \n",
      " 41  metaf_skylev1                  1671 non-null   float64\n",
      " 42  metaf_skyc2                    7054 non-null   object \n",
      " 43  metaf_skylev2                  83 non-null     float64\n",
      " 44  metaf_cloudcover               2985 non-null   float64\n",
      " 45  metaf_temperature              2961 non-null   float64\n",
      " 46  metaf_dewpoint                 2961 non-null   float64\n",
      " 47  metaf_altimeter                2961 non-null   float64\n",
      " 48  metaf_current_wx1_symbol       2985 non-null   float64\n",
      " 49  metaf_current_wx2_symbol       2985 non-null   float64\n",
      " 50  metaf_current_wx3_symbol       2985 non-null   float64\n",
      " 51  metaf_remarks                  7054 non-null   object \n",
      "dtypes: float64(33), int64(2), object(17)\n",
      "memory usage: 2.9+ MB\n"
     ]
    }
   ],
   "source": [
    "X.info()"
   ]
  },
  {
   "cell_type": "markdown",
   "id": "57e4f32b-d856-4f77-b368-447f56be010d",
   "metadata": {},
   "source": [
    "# Training model"
   ]
  },
  {
   "cell_type": "code",
   "execution_count": 11,
   "id": "ab3b3ef0-2159-4e0e-bdfc-52a69bfbb75b",
   "metadata": {},
   "outputs": [],
   "source": [
    "from sklearn.model_selection import train_test_split\n",
    "random_state = 42\n",
    "X_base_train, X_test, y_base_train, y_test = train_test_split(X, y, test_size=0.20, random_state=random_state)\n",
    "X_train, X_eval, y_train, y_eval = train_test_split(X_base_train, y_base_train, test_size=1/8, random_state=random_state)"
   ]
  },
  {
   "cell_type": "code",
   "execution_count": 12,
   "id": "d086f0a7-8e49-4c6a-a8d5-065e23c089e8",
   "metadata": {},
   "outputs": [],
   "source": [
    "# real test -> to submit to kaggle, replace X_test from unlabelled samples and resplit train/eval dataset\n",
    "# WARNING: in this mode, metrics report and confusion matrix are not reliable, since it trained with all data. So they are not show.\n",
    "if real_test:\n",
    "    # TODO: move this data handling to be by default at datasets.get_public_dataset()\n",
    "\n",
    "    # data handling\n",
    "    df_real_test = datasets.get_test_dataset()    \n",
    "    df_real_test.dropna(axis=1, how=\"all\", inplace=True)\n",
    "    df_real_test.drop(columns=datetime_columns, inplace=True)\n",
    "    X_test = df_real_test\n",
    "    X_test.fillna(cat_features_fill_map, inplace=True)\n",
    "\n",
    "    # split\n",
    "    X_train, X_eval, y_train, y_eval = train_test_split(X, y, test_size=0.20, random_state=random_state)"
   ]
  },
  {
   "cell_type": "code",
   "execution_count": 13,
   "id": "20367eec-1776-4dd7-ad65-26165ace8bdc",
   "metadata": {},
   "outputs": [
    {
     "data": {
      "text/plain": [
       "array([ 0.50802634, 31.6474359 ])"
      ]
     },
     "execution_count": 13,
     "metadata": {},
     "output_type": "execute_result"
    }
   ],
   "source": [
    "# computer class weights\n",
    "from sklearn.utils.class_weight import compute_class_weight\n",
    " \n",
    "classes = np.unique(y_train)\n",
    "class_weights = compute_class_weight(class_weight='balanced', classes=classes, y=y_train)\n",
    "class_weights"
   ]
  },
  {
   "cell_type": "code",
   "execution_count": 14,
   "id": "03f53c3a-7e15-4c1c-b6fd-d13550ac74ab",
   "metadata": {},
   "outputs": [
    {
     "name": "stdout",
     "output_type": "stream",
     "text": [
      "Learning rate set to 0.04701\n",
      "0:\tlearn: 0.7584022\ttest: 0.7791073\tbest: 0.7791073 (0)\ttotal: 58.9ms\tremaining: 58.8s\n",
      "50:\tlearn: 0.9157103\ttest: 0.6410660\tbest: 0.7791073 (0)\ttotal: 529ms\tremaining: 9.85s\n",
      "100:\tlearn: 0.9311997\ttest: 0.5963322\tbest: 0.7791073 (0)\ttotal: 918ms\tremaining: 8.17s\n",
      "Stopped by overfitting detector  (100 iterations wait)\n",
      "\n",
      "bestTest = 0.7791072868\n",
      "bestIteration = 0\n",
      "\n",
      "Shrink model to first 1 iterations.\n"
     ]
    }
   ],
   "source": [
    "from catboost import CatBoostClassifier, Pool\n",
    "\n",
    "train_data = Pool(\n",
    "   data=X_train,\n",
    "   label=y_train,\n",
    "   cat_features=cat_features\n",
    ")\n",
    "\n",
    "model = CatBoostClassifier(\n",
    "    iterations=1000,  # Maximum number of trees (you can adjust this)\n",
    "    early_stopping_rounds=100,  # Number of iterations to wait for improvement\n",
    "    eval_metric=\"F1\",  # Metric to use for early stopping\n",
    "    cat_features=cat_features,\n",
    "    class_weights=class_weights, # class weights, because dataset is unbalanced\n",
    "    verbose=50  # Print information every n iterations\n",
    ")\n",
    "\n",
    "model.fit(train_data, eval_set=(X_eval, y_eval))\n",
    "y_pred = model.predict(X_test)"
   ]
  },
  {
   "cell_type": "markdown",
   "id": "8876204a-7730-44c8-bc47-f907b2ae31ce",
   "metadata": {},
   "source": [
    "# Model evaluation"
   ]
  },
  {
   "cell_type": "code",
   "execution_count": 26,
   "id": "d2250f12-fef3-4a37-b114-3fd0e82817fd",
   "metadata": {},
   "outputs": [
    {
     "name": "stdout",
     "output_type": "stream",
     "text": [
      "Classification Report: F1[class=1] = 0.061\n",
      "              precision    recall  f1-score   support\n",
      "\n",
      "           0       0.99      0.65      0.78      1385\n",
      "           1       0.03      0.62      0.06        26\n",
      "\n",
      "    accuracy                           0.65      1411\n",
      "   macro avg       0.51      0.63      0.42      1411\n",
      "weighted avg       0.97      0.65      0.77      1411\n",
      "\n",
      "Confusion Matrix:\n",
      "[[901 484]\n",
      " [ 10  16]]\n"
     ]
    },
    {
     "data": {
      "image/png": "[encoded data removed]",
      "text/plain": [
       "<Figure size 640x480 with 2 Axes>"
      ]
     },
     "metadata": {},
     "output_type": "display_data"
    }
   ],
   "source": [
    "import matplotlib.pyplot as plt\n",
    "from sklearn.metrics import classification_report, confusion_matrix, ConfusionMatrixDisplay\n",
    "from sklearn.metrics import f1_score\n",
    "\n",
    "if not real_test:\n",
    "    report = classification_report(y_test, y_pred)\n",
    "    f1_score_class1 = f1_score(y_test, y_pred, average=None)\n",
    "    print(f\"Classification Report: F1[class=1] = {round(f1_score_class1[1], 3)}\")\n",
    "    print(report)\n",
    "    \n",
    "    # Print confusion matrix\n",
    "    cm = confusion_matrix(y_test, y_pred)\n",
    "    print(\"Confusion Matrix:\")\n",
    "    print(cm)\n",
    "    disp = ConfusionMatrixDisplay(confusion_matrix=cm)\n",
    "    disp.plot(cmap=plt.cm.Blues)\n",
    "    plt.show()"
   ]
  },
  {
   "cell_type": "markdown",
   "id": "f4116263-dd9d-4698-8c66-70b0f259e294",
   "metadata": {},
   "source": [
    "# Save prediction\n"
   ]
  },
  {
   "cell_type": "code",
   "execution_count": 16,
   "id": "693742d0-ddb5-414d-83a1-47bdd883f750",
   "metadata": {},
   "outputs": [],
   "source": [
    "y_pred_series = pd.Series(y_pred, index=X_test.index, name=\"espera\")\n",
    "y_pred_series.to_csv(datasets.datasets_dir / \"catboost_submit.csv\")"
   ]
  },
  {
   "cell_type": "code",
   "execution_count": 17,
   "id": "5396774a-f44f-409a-a427-8300919ac71a",
   "metadata": {},
   "outputs": [
    {
     "data": {
      "text/plain": [
       "espera\n",
       "0    0.98313\n",
       "1    0.01687\n",
       "Name: count, dtype: float64"
      ]
     },
     "execution_count": 17,
     "metadata": {},
     "output_type": "execute_result"
    }
   ],
   "source": [
    "# probability of having espera P(espera=1) = 1.74%, extremely unbanlaced \n",
    "y.value_counts() / y.count()"
   ]
  },
  {
   "cell_type": "code",
   "execution_count": 18,
   "id": "e3d997c8-efc6-42d0-87b2-d53dbefa1bb7",
   "metadata": {},
   "outputs": [
    {
     "data": {
      "text/plain": [
       "1411"
      ]
     },
     "execution_count": 18,
     "metadata": {},
     "output_type": "execute_result"
    }
   ],
   "source": [
    "y_pred_series.count()"
   ]
  },
  {
   "cell_type": "code",
   "execution_count": 19,
   "id": "8049c0d9-e4dc-4523-8fc1-1a394b9e2b95",
   "metadata": {},
   "outputs": [
    {
     "data": {
      "text/plain": [
       "array([ 0.50802634, 31.6474359 ])"
      ]
     },
     "execution_count": 19,
     "metadata": {},
     "output_type": "execute_result"
    }
   ],
   "source": [
    "class_weights"
   ]
  },
  {
   "cell_type": "code",
   "execution_count": null,
   "id": "252aa8d7-9072-44f7-b2e0-d5e5b4c21093",
   "metadata": {},
   "outputs": [],
   "source": []
  }
 ],
 "metadata": {
  "kernelspec": {
   "display_name": "Python 3 (ipykernel)",
   "language": "python",
   "name": "python3"
  },
  "language_info": {
   "codemirror_mode": {
    "name": "ipython",
    "version": 3
   },
   "file_extension": ".py",
   "mimetype": "text/x-python",
   "name": "python",
   "nbconvert_exporter": "python",
   "pygments_lexer": "ipython3",
   "version": "3.10.12"
  }
 },
 "nbformat": 4,
 "nbformat_minor": 5
}
